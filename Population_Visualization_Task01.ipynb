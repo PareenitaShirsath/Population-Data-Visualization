{
 "cells": [
  {
   "cell_type": "markdown",
   "id": "fc724531",
   "metadata": {},
   "source": [
    "# Prodigy Infotech Internship Task-01\n",
    "\n",
    "This notebook contains solutions for Task-01:  \n",
    "**\"Create a bar chart or histogram to visualize the distribution of a categorical or continuous variable, such as the distribution of ages or genders in a population.\"**\n",
    "\n",
    "We have included:\n",
    "1. Bar chart - Top 10 most populated countries (World Bank dataset)\n",
    "2. Histogram - Simulated age distribution\n",
    "3. Bar chart - Simulated gender distribution\n",
    "4. Histogram - Distribution of countries by population (World Bank dataset)\n"
   ]
  },
  {
   "cell_type": "code",
   "execution_count": null,
   "id": "001bd7a8",
   "metadata": {},
   "outputs": [],
   "source": [
    "import pandas as pd\n",
    "import matplotlib.pyplot as plt\n",
    "\n",
    "# Load population dataset\n",
    "url = \"https://raw.githubusercontent.com/datasets/population/master/data/population.csv\"\n",
    "df = pd.read_csv(url)\n",
    "\n",
    "# Filter for 2021 data\n",
    "df_2021 = df[df['Year'] == 2021]\n",
    "\n",
    "# Get top 10 most populated countries\n",
    "top10 = df_2021.sort_values(by='Value', ascending=False).head(10)\n",
    "\n",
    "# Plot\n",
    "plt.figure(figsize=(10,6))\n",
    "plt.bar(top10['Country Name'], top10['Value'] / 1e6, color='purple')\n",
    "plt.title(\"Top 10 Most Populated Countries (2021)\")\n",
    "plt.xlabel(\"Country\")\n",
    "plt.ylabel(\"Population (Millions)\")\n",
    "plt.xticks(rotation=45)\n",
    "plt.tight_layout()\n",
    "plt.show()"
   ]
  },
  {
   "cell_type": "code",
   "execution_count": null,
   "id": "8f1e4f1e",
   "metadata": {},
   "outputs": [],
   "source": [
    "import numpy as np\n",
    "\n",
    "# Simulate ages of 1000 people\n",
    "np.random.seed(0)\n",
    "ages = np.random.normal(loc=35, scale=10, size=1000)\n",
    "\n",
    "# Plot histogram\n",
    "plt.figure(figsize=(10,6))\n",
    "plt.hist(ages, bins=20, color='skyblue', edgecolor='black')\n",
    "plt.title(\"Simulated Age Distribution in a Population\")\n",
    "plt.xlabel(\"Age\")\n",
    "plt.ylabel(\"Number of People\")\n",
    "plt.grid(True)\n",
    "plt.show()"
   ]
  },
  {
   "cell_type": "code",
   "execution_count": null,
   "id": "45c18547",
   "metadata": {},
   "outputs": [],
   "source": [
    "# Simulated gender counts\n",
    "gender = ['Male', 'Female', 'Other']\n",
    "count = [480, 500, 20]\n",
    "\n",
    "# Plot\n",
    "plt.figure(figsize=(6,4))\n",
    "plt.bar(gender, count, color=['blue', 'pink', 'gray'])\n",
    "plt.title(\"Gender Distribution in a Sample Population\")\n",
    "plt.ylabel(\"Number of People\")\n",
    "plt.show()"
   ]
  },
  {
   "cell_type": "code",
   "execution_count": null,
   "id": "6d540dbb",
   "metadata": {},
   "outputs": [],
   "source": [
    "# Histogram of country populations\n",
    "plt.figure(figsize=(10,6))\n",
    "plt.hist(df_2021['Value'] / 1e6, bins=30, color='orange', edgecolor='black')\n",
    "plt.title(\"Distribution of Country Populations (2021)\")\n",
    "plt.xlabel(\"Population (Millions)\")\n",
    "plt.ylabel(\"Number of Countries\")\n",
    "plt.grid(True)\n",
    "plt.show()"
   ]
  }
 ],
 "metadata": {
  "language": "python"
 },
 "nbformat": 4,
 "nbformat_minor": 5
}